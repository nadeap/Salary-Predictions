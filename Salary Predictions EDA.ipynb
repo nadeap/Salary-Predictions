{
  "nbformat": 4,
  "nbformat_minor": 0,
  "metadata": {
    "colab": {
      "provenance": []
    },
    "kernelspec": {
      "name": "python3",
      "display_name": "Python 3"
    },
    "language_info": {
      "name": "python"
    },
    "accelerator": "GPU",
    "gpuClass": "standard"
  },
  "cells": [
    {
      "cell_type": "code",
      "execution_count": 1,
      "metadata": {
        "colab": {
          "base_uri": "https://localhost:8080/"
        },
        "id": "EnXXhW5GMg3a",
        "outputId": "d8a66770-a73d-47e8-b37c-f9333c0593ca"
      },
      "outputs": [
        {
          "output_type": "stream",
          "name": "stdout",
          "text": [
            "Drive already mounted at /content/drive; to attempt to forcibly remount, call drive.mount(\"/content/drive\", force_remount=True).\n"
          ]
        }
      ],
      "source": [
        "from google.colab import drive\n",
        "drive.mount('/content/drive')"
      ]
    },
    {
      "cell_type": "code",
      "source": [
        "import pandas as pd\n",
        "import numpy as np\n",
        "import matplotlib.pyplot as plt\n",
        "import seaborn as sns"
      ],
      "metadata": {
        "id": "eaDDF6ohNFg5"
      },
      "execution_count": 2,
      "outputs": []
    },
    {
      "cell_type": "code",
      "source": [
        "data = pd.read_csv('/content/drive/My Drive/dataset/survei2022.csv')\n",
        "data.head(10)"
      ],
      "metadata": {
        "colab": {
          "base_uri": "https://localhost:8080/",
          "height": 1000
        },
        "id": "Lpwltv_CNSyb",
        "outputId": "768e8ad5-223c-4cda-a304-51d92a576410"
      },
      "execution_count": 3,
      "outputs": [
        {
          "output_type": "execute_result",
          "data": {
            "text/plain": [
              "   ResponseId                                         MainBranch  \\\n",
              "0           1                                      None of these   \n",
              "1           2                     I am a developer by profession   \n",
              "2           3  I am not primarily a developer, but I write co...   \n",
              "3           4                     I am a developer by profession   \n",
              "4           5                     I am a developer by profession   \n",
              "5           6  I am not primarily a developer, but I write co...   \n",
              "6           7                        I code primarily as a hobby   \n",
              "7           8                     I am a developer by profession   \n",
              "8           9                     I am a developer by profession   \n",
              "9          10                     I am a developer by profession   \n",
              "\n",
              "                                          Employment  \\\n",
              "0                                                NaN   \n",
              "1                                Employed, full-time   \n",
              "2                                Employed, full-time   \n",
              "3                                Employed, full-time   \n",
              "4                                Employed, full-time   \n",
              "5                                 Student, full-time   \n",
              "6                                 Student, part-time   \n",
              "7                 Not employed, but looking for work   \n",
              "8                                Employed, full-time   \n",
              "9  Independent contractor, freelancer, or self-em...   \n",
              "\n",
              "                             RemoteWork  \\\n",
              "0                                   NaN   \n",
              "1                          Fully remote   \n",
              "2  Hybrid (some remote, some in-person)   \n",
              "3                          Fully remote   \n",
              "4  Hybrid (some remote, some in-person)   \n",
              "5                                   NaN   \n",
              "6                                   NaN   \n",
              "7                                   NaN   \n",
              "8  Hybrid (some remote, some in-person)   \n",
              "9                          Fully remote   \n",
              "\n",
              "                                    CodingActivities  \\\n",
              "0                                                NaN   \n",
              "1           Hobby;Contribute to open-source projects   \n",
              "2                                              Hobby   \n",
              "3                       I don’t code outside of work   \n",
              "4                                              Hobby   \n",
              "5                                                NaN   \n",
              "6                                                NaN   \n",
              "7                                                NaN   \n",
              "8                       I don’t code outside of work   \n",
              "9  Hobby;Contribute to open-source projects;Boots...   \n",
              "\n",
              "                                             EdLevel  \\\n",
              "0                                                NaN   \n",
              "1                                                NaN   \n",
              "2    Master’s degree (M.A., M.S., M.Eng., MBA, etc.)   \n",
              "3       Bachelor’s degree (B.A., B.S., B.Eng., etc.)   \n",
              "4       Bachelor’s degree (B.A., B.S., B.Eng., etc.)   \n",
              "5    Master’s degree (M.A., M.S., M.Eng., MBA, etc.)   \n",
              "6  Secondary school (e.g. American high school, G...   \n",
              "7  Some college/university study without earning ...   \n",
              "8    Master’s degree (M.A., M.S., M.Eng., MBA, etc.)   \n",
              "9  Some college/university study without earning ...   \n",
              "\n",
              "                                           LearnCode  \\\n",
              "0                                                NaN   \n",
              "1                                                NaN   \n",
              "2  Books / Physical media;Friend or family member...   \n",
              "3  Books / Physical media;School (i.e., Universit...   \n",
              "4  Other online resources (e.g., videos, blogs, f...   \n",
              "5  Books / Physical media;School (i.e., Universit...   \n",
              "6  Other online resources (e.g., videos, blogs, f...   \n",
              "7                    Online Courses or Certification   \n",
              "8                On the job training;Coding Bootcamp   \n",
              "9  Books / Physical media;Other online resources ...   \n",
              "\n",
              "                                     LearnCodeOnline LearnCodeCoursesCert  \\\n",
              "0                                                NaN                  NaN   \n",
              "1                                                NaN                  NaN   \n",
              "2  Technical documentation;Blogs;Programming Game...                  NaN   \n",
              "3                                                NaN                  NaN   \n",
              "4  Technical documentation;Blogs;Stack Overflow;O...                  NaN   \n",
              "5                                                NaN                  NaN   \n",
              "6          Stack Overflow;Video-based Online Courses                  NaN   \n",
              "7                                                NaN       Coursera;Udemy   \n",
              "8                                                NaN                  NaN   \n",
              "9  Technical documentation;Blogs;Written Tutorial...                  NaN   \n",
              "\n",
              "  YearsCode  ...        TimeSearching           TimeAnswering     Onboarding  \\\n",
              "0       NaN  ...                  NaN                     NaN            NaN   \n",
              "1       NaN  ...                  NaN                     NaN            NaN   \n",
              "2        14  ...                  NaN                     NaN            NaN   \n",
              "3        20  ...                  NaN                     NaN            NaN   \n",
              "4         8  ...                  NaN                     NaN            NaN   \n",
              "5        15  ...                  NaN                     NaN            NaN   \n",
              "6         3  ...                  NaN                     NaN            NaN   \n",
              "7         1  ...                  NaN                     NaN            NaN   \n",
              "8         6  ...  15-30 minutes a day  Over 120 minutes a day  Somewhat long   \n",
              "9        37  ...                  NaN                     NaN            NaN   \n",
              "\n",
              "                                    ProfessionalTech TrueFalse_1 TrueFalse_2  \\\n",
              "0                                                NaN         NaN         NaN   \n",
              "1                                                NaN         NaN         NaN   \n",
              "2                                                NaN         NaN         NaN   \n",
              "3                                                NaN         NaN         NaN   \n",
              "4                                                NaN         NaN         NaN   \n",
              "5                                                NaN         NaN         NaN   \n",
              "6                                                NaN         NaN         NaN   \n",
              "7                                                NaN         NaN         NaN   \n",
              "8  Innersource initiative;DevOps function;Microse...         Yes         Yes   \n",
              "9                                                NaN         NaN         NaN   \n",
              "\n",
              "  TrueFalse_3           SurveyLength                  SurveyEase  \\\n",
              "0         NaN                    NaN                         NaN   \n",
              "1         NaN               Too long                   Difficult   \n",
              "2         NaN  Appropriate in length  Neither easy nor difficult   \n",
              "3         NaN  Appropriate in length                        Easy   \n",
              "4         NaN               Too long                        Easy   \n",
              "5         NaN  Appropriate in length                        Easy   \n",
              "6         NaN  Appropriate in length                        Easy   \n",
              "7         NaN  Appropriate in length                        Easy   \n",
              "8         Yes  Appropriate in length                        Easy   \n",
              "9         NaN  Appropriate in length                        Easy   \n",
              "\n",
              "  ConvertedCompYearly  \n",
              "0                 NaN  \n",
              "1                 NaN  \n",
              "2             40205.0  \n",
              "3            215232.0  \n",
              "4                 NaN  \n",
              "5                 NaN  \n",
              "6                 NaN  \n",
              "7                 NaN  \n",
              "8             49056.0  \n",
              "9                 NaN  \n",
              "\n",
              "[10 rows x 79 columns]"
            ],
            "text/html": [
              "\n",
              "  <div id=\"df-32cdad10-9697-4dbb-ac7b-bb14e5b4175e\">\n",
              "    <div class=\"colab-df-container\">\n",
              "      <div>\n",
              "<style scoped>\n",
              "    .dataframe tbody tr th:only-of-type {\n",
              "        vertical-align: middle;\n",
              "    }\n",
              "\n",
              "    .dataframe tbody tr th {\n",
              "        vertical-align: top;\n",
              "    }\n",
              "\n",
              "    .dataframe thead th {\n",
              "        text-align: right;\n",
              "    }\n",
              "</style>\n",
              "<table border=\"1\" class=\"dataframe\">\n",
              "  <thead>\n",
              "    <tr style=\"text-align: right;\">\n",
              "      <th></th>\n",
              "      <th>ResponseId</th>\n",
              "      <th>MainBranch</th>\n",
              "      <th>Employment</th>\n",
              "      <th>RemoteWork</th>\n",
              "      <th>CodingActivities</th>\n",
              "      <th>EdLevel</th>\n",
              "      <th>LearnCode</th>\n",
              "      <th>LearnCodeOnline</th>\n",
              "      <th>LearnCodeCoursesCert</th>\n",
              "      <th>YearsCode</th>\n",
              "      <th>...</th>\n",
              "      <th>TimeSearching</th>\n",
              "      <th>TimeAnswering</th>\n",
              "      <th>Onboarding</th>\n",
              "      <th>ProfessionalTech</th>\n",
              "      <th>TrueFalse_1</th>\n",
              "      <th>TrueFalse_2</th>\n",
              "      <th>TrueFalse_3</th>\n",
              "      <th>SurveyLength</th>\n",
              "      <th>SurveyEase</th>\n",
              "      <th>ConvertedCompYearly</th>\n",
              "    </tr>\n",
              "  </thead>\n",
              "  <tbody>\n",
              "    <tr>\n",
              "      <th>0</th>\n",
              "      <td>1</td>\n",
              "      <td>None of these</td>\n",
              "      <td>NaN</td>\n",
              "      <td>NaN</td>\n",
              "      <td>NaN</td>\n",
              "      <td>NaN</td>\n",
              "      <td>NaN</td>\n",
              "      <td>NaN</td>\n",
              "      <td>NaN</td>\n",
              "      <td>NaN</td>\n",
              "      <td>...</td>\n",
              "      <td>NaN</td>\n",
              "      <td>NaN</td>\n",
              "      <td>NaN</td>\n",
              "      <td>NaN</td>\n",
              "      <td>NaN</td>\n",
              "      <td>NaN</td>\n",
              "      <td>NaN</td>\n",
              "      <td>NaN</td>\n",
              "      <td>NaN</td>\n",
              "      <td>NaN</td>\n",
              "    </tr>\n",
              "    <tr>\n",
              "      <th>1</th>\n",
              "      <td>2</td>\n",
              "      <td>I am a developer by profession</td>\n",
              "      <td>Employed, full-time</td>\n",
              "      <td>Fully remote</td>\n",
              "      <td>Hobby;Contribute to open-source projects</td>\n",
              "      <td>NaN</td>\n",
              "      <td>NaN</td>\n",
              "      <td>NaN</td>\n",
              "      <td>NaN</td>\n",
              "      <td>NaN</td>\n",
              "      <td>...</td>\n",
              "      <td>NaN</td>\n",
              "      <td>NaN</td>\n",
              "      <td>NaN</td>\n",
              "      <td>NaN</td>\n",
              "      <td>NaN</td>\n",
              "      <td>NaN</td>\n",
              "      <td>NaN</td>\n",
              "      <td>Too long</td>\n",
              "      <td>Difficult</td>\n",
              "      <td>NaN</td>\n",
              "    </tr>\n",
              "    <tr>\n",
              "      <th>2</th>\n",
              "      <td>3</td>\n",
              "      <td>I am not primarily a developer, but I write co...</td>\n",
              "      <td>Employed, full-time</td>\n",
              "      <td>Hybrid (some remote, some in-person)</td>\n",
              "      <td>Hobby</td>\n",
              "      <td>Master’s degree (M.A., M.S., M.Eng., MBA, etc.)</td>\n",
              "      <td>Books / Physical media;Friend or family member...</td>\n",
              "      <td>Technical documentation;Blogs;Programming Game...</td>\n",
              "      <td>NaN</td>\n",
              "      <td>14</td>\n",
              "      <td>...</td>\n",
              "      <td>NaN</td>\n",
              "      <td>NaN</td>\n",
              "      <td>NaN</td>\n",
              "      <td>NaN</td>\n",
              "      <td>NaN</td>\n",
              "      <td>NaN</td>\n",
              "      <td>NaN</td>\n",
              "      <td>Appropriate in length</td>\n",
              "      <td>Neither easy nor difficult</td>\n",
              "      <td>40205.0</td>\n",
              "    </tr>\n",
              "    <tr>\n",
              "      <th>3</th>\n",
              "      <td>4</td>\n",
              "      <td>I am a developer by profession</td>\n",
              "      <td>Employed, full-time</td>\n",
              "      <td>Fully remote</td>\n",
              "      <td>I don’t code outside of work</td>\n",
              "      <td>Bachelor’s degree (B.A., B.S., B.Eng., etc.)</td>\n",
              "      <td>Books / Physical media;School (i.e., Universit...</td>\n",
              "      <td>NaN</td>\n",
              "      <td>NaN</td>\n",
              "      <td>20</td>\n",
              "      <td>...</td>\n",
              "      <td>NaN</td>\n",
              "      <td>NaN</td>\n",
              "      <td>NaN</td>\n",
              "      <td>NaN</td>\n",
              "      <td>NaN</td>\n",
              "      <td>NaN</td>\n",
              "      <td>NaN</td>\n",
              "      <td>Appropriate in length</td>\n",
              "      <td>Easy</td>\n",
              "      <td>215232.0</td>\n",
              "    </tr>\n",
              "    <tr>\n",
              "      <th>4</th>\n",
              "      <td>5</td>\n",
              "      <td>I am a developer by profession</td>\n",
              "      <td>Employed, full-time</td>\n",
              "      <td>Hybrid (some remote, some in-person)</td>\n",
              "      <td>Hobby</td>\n",
              "      <td>Bachelor’s degree (B.A., B.S., B.Eng., etc.)</td>\n",
              "      <td>Other online resources (e.g., videos, blogs, f...</td>\n",
              "      <td>Technical documentation;Blogs;Stack Overflow;O...</td>\n",
              "      <td>NaN</td>\n",
              "      <td>8</td>\n",
              "      <td>...</td>\n",
              "      <td>NaN</td>\n",
              "      <td>NaN</td>\n",
              "      <td>NaN</td>\n",
              "      <td>NaN</td>\n",
              "      <td>NaN</td>\n",
              "      <td>NaN</td>\n",
              "      <td>NaN</td>\n",
              "      <td>Too long</td>\n",
              "      <td>Easy</td>\n",
              "      <td>NaN</td>\n",
              "    </tr>\n",
              "    <tr>\n",
              "      <th>5</th>\n",
              "      <td>6</td>\n",
              "      <td>I am not primarily a developer, but I write co...</td>\n",
              "      <td>Student, full-time</td>\n",
              "      <td>NaN</td>\n",
              "      <td>NaN</td>\n",
              "      <td>Master’s degree (M.A., M.S., M.Eng., MBA, etc.)</td>\n",
              "      <td>Books / Physical media;School (i.e., Universit...</td>\n",
              "      <td>NaN</td>\n",
              "      <td>NaN</td>\n",
              "      <td>15</td>\n",
              "      <td>...</td>\n",
              "      <td>NaN</td>\n",
              "      <td>NaN</td>\n",
              "      <td>NaN</td>\n",
              "      <td>NaN</td>\n",
              "      <td>NaN</td>\n",
              "      <td>NaN</td>\n",
              "      <td>NaN</td>\n",
              "      <td>Appropriate in length</td>\n",
              "      <td>Easy</td>\n",
              "      <td>NaN</td>\n",
              "    </tr>\n",
              "    <tr>\n",
              "      <th>6</th>\n",
              "      <td>7</td>\n",
              "      <td>I code primarily as a hobby</td>\n",
              "      <td>Student, part-time</td>\n",
              "      <td>NaN</td>\n",
              "      <td>NaN</td>\n",
              "      <td>Secondary school (e.g. American high school, G...</td>\n",
              "      <td>Other online resources (e.g., videos, blogs, f...</td>\n",
              "      <td>Stack Overflow;Video-based Online Courses</td>\n",
              "      <td>NaN</td>\n",
              "      <td>3</td>\n",
              "      <td>...</td>\n",
              "      <td>NaN</td>\n",
              "      <td>NaN</td>\n",
              "      <td>NaN</td>\n",
              "      <td>NaN</td>\n",
              "      <td>NaN</td>\n",
              "      <td>NaN</td>\n",
              "      <td>NaN</td>\n",
              "      <td>Appropriate in length</td>\n",
              "      <td>Easy</td>\n",
              "      <td>NaN</td>\n",
              "    </tr>\n",
              "    <tr>\n",
              "      <th>7</th>\n",
              "      <td>8</td>\n",
              "      <td>I am a developer by profession</td>\n",
              "      <td>Not employed, but looking for work</td>\n",
              "      <td>NaN</td>\n",
              "      <td>NaN</td>\n",
              "      <td>Some college/university study without earning ...</td>\n",
              "      <td>Online Courses or Certification</td>\n",
              "      <td>NaN</td>\n",
              "      <td>Coursera;Udemy</td>\n",
              "      <td>1</td>\n",
              "      <td>...</td>\n",
              "      <td>NaN</td>\n",
              "      <td>NaN</td>\n",
              "      <td>NaN</td>\n",
              "      <td>NaN</td>\n",
              "      <td>NaN</td>\n",
              "      <td>NaN</td>\n",
              "      <td>NaN</td>\n",
              "      <td>Appropriate in length</td>\n",
              "      <td>Easy</td>\n",
              "      <td>NaN</td>\n",
              "    </tr>\n",
              "    <tr>\n",
              "      <th>8</th>\n",
              "      <td>9</td>\n",
              "      <td>I am a developer by profession</td>\n",
              "      <td>Employed, full-time</td>\n",
              "      <td>Hybrid (some remote, some in-person)</td>\n",
              "      <td>I don’t code outside of work</td>\n",
              "      <td>Master’s degree (M.A., M.S., M.Eng., MBA, etc.)</td>\n",
              "      <td>On the job training;Coding Bootcamp</td>\n",
              "      <td>NaN</td>\n",
              "      <td>NaN</td>\n",
              "      <td>6</td>\n",
              "      <td>...</td>\n",
              "      <td>15-30 minutes a day</td>\n",
              "      <td>Over 120 minutes a day</td>\n",
              "      <td>Somewhat long</td>\n",
              "      <td>Innersource initiative;DevOps function;Microse...</td>\n",
              "      <td>Yes</td>\n",
              "      <td>Yes</td>\n",
              "      <td>Yes</td>\n",
              "      <td>Appropriate in length</td>\n",
              "      <td>Easy</td>\n",
              "      <td>49056.0</td>\n",
              "    </tr>\n",
              "    <tr>\n",
              "      <th>9</th>\n",
              "      <td>10</td>\n",
              "      <td>I am a developer by profession</td>\n",
              "      <td>Independent contractor, freelancer, or self-em...</td>\n",
              "      <td>Fully remote</td>\n",
              "      <td>Hobby;Contribute to open-source projects;Boots...</td>\n",
              "      <td>Some college/university study without earning ...</td>\n",
              "      <td>Books / Physical media;Other online resources ...</td>\n",
              "      <td>Technical documentation;Blogs;Written Tutorial...</td>\n",
              "      <td>NaN</td>\n",
              "      <td>37</td>\n",
              "      <td>...</td>\n",
              "      <td>NaN</td>\n",
              "      <td>NaN</td>\n",
              "      <td>NaN</td>\n",
              "      <td>NaN</td>\n",
              "      <td>NaN</td>\n",
              "      <td>NaN</td>\n",
              "      <td>NaN</td>\n",
              "      <td>Appropriate in length</td>\n",
              "      <td>Easy</td>\n",
              "      <td>NaN</td>\n",
              "    </tr>\n",
              "  </tbody>\n",
              "</table>\n",
              "<p>10 rows × 79 columns</p>\n",
              "</div>\n",
              "      <button class=\"colab-df-convert\" onclick=\"convertToInteractive('df-32cdad10-9697-4dbb-ac7b-bb14e5b4175e')\"\n",
              "              title=\"Convert this dataframe to an interactive table.\"\n",
              "              style=\"display:none;\">\n",
              "        \n",
              "  <svg xmlns=\"http://www.w3.org/2000/svg\" height=\"24px\"viewBox=\"0 0 24 24\"\n",
              "       width=\"24px\">\n",
              "    <path d=\"M0 0h24v24H0V0z\" fill=\"none\"/>\n",
              "    <path d=\"M18.56 5.44l.94 2.06.94-2.06 2.06-.94-2.06-.94-.94-2.06-.94 2.06-2.06.94zm-11 1L8.5 8.5l.94-2.06 2.06-.94-2.06-.94L8.5 2.5l-.94 2.06-2.06.94zm10 10l.94 2.06.94-2.06 2.06-.94-2.06-.94-.94-2.06-.94 2.06-2.06.94z\"/><path d=\"M17.41 7.96l-1.37-1.37c-.4-.4-.92-.59-1.43-.59-.52 0-1.04.2-1.43.59L10.3 9.45l-7.72 7.72c-.78.78-.78 2.05 0 2.83L4 21.41c.39.39.9.59 1.41.59.51 0 1.02-.2 1.41-.59l7.78-7.78 2.81-2.81c.8-.78.8-2.07 0-2.86zM5.41 20L4 18.59l7.72-7.72 1.47 1.35L5.41 20z\"/>\n",
              "  </svg>\n",
              "      </button>\n",
              "      \n",
              "  <style>\n",
              "    .colab-df-container {\n",
              "      display:flex;\n",
              "      flex-wrap:wrap;\n",
              "      gap: 12px;\n",
              "    }\n",
              "\n",
              "    .colab-df-convert {\n",
              "      background-color: #E8F0FE;\n",
              "      border: none;\n",
              "      border-radius: 50%;\n",
              "      cursor: pointer;\n",
              "      display: none;\n",
              "      fill: #1967D2;\n",
              "      height: 32px;\n",
              "      padding: 0 0 0 0;\n",
              "      width: 32px;\n",
              "    }\n",
              "\n",
              "    .colab-df-convert:hover {\n",
              "      background-color: #E2EBFA;\n",
              "      box-shadow: 0px 1px 2px rgba(60, 64, 67, 0.3), 0px 1px 3px 1px rgba(60, 64, 67, 0.15);\n",
              "      fill: #174EA6;\n",
              "    }\n",
              "\n",
              "    [theme=dark] .colab-df-convert {\n",
              "      background-color: #3B4455;\n",
              "      fill: #D2E3FC;\n",
              "    }\n",
              "\n",
              "    [theme=dark] .colab-df-convert:hover {\n",
              "      background-color: #434B5C;\n",
              "      box-shadow: 0px 1px 3px 1px rgba(0, 0, 0, 0.15);\n",
              "      filter: drop-shadow(0px 1px 2px rgba(0, 0, 0, 0.3));\n",
              "      fill: #FFFFFF;\n",
              "    }\n",
              "  </style>\n",
              "\n",
              "      <script>\n",
              "        const buttonEl =\n",
              "          document.querySelector('#df-32cdad10-9697-4dbb-ac7b-bb14e5b4175e button.colab-df-convert');\n",
              "        buttonEl.style.display =\n",
              "          google.colab.kernel.accessAllowed ? 'block' : 'none';\n",
              "\n",
              "        async function convertToInteractive(key) {\n",
              "          const element = document.querySelector('#df-32cdad10-9697-4dbb-ac7b-bb14e5b4175e');\n",
              "          const dataTable =\n",
              "            await google.colab.kernel.invokeFunction('convertToInteractive',\n",
              "                                                     [key], {});\n",
              "          if (!dataTable) return;\n",
              "\n",
              "          const docLinkHtml = 'Like what you see? Visit the ' +\n",
              "            '<a target=\"_blank\" href=https://colab.research.google.com/notebooks/data_table.ipynb>data table notebook</a>'\n",
              "            + ' to learn more about interactive tables.';\n",
              "          element.innerHTML = '';\n",
              "          dataTable['output_type'] = 'display_data';\n",
              "          await google.colab.output.renderOutput(dataTable, element);\n",
              "          const docLink = document.createElement('div');\n",
              "          docLink.innerHTML = docLinkHtml;\n",
              "          element.appendChild(docLink);\n",
              "        }\n",
              "      </script>\n",
              "    </div>\n",
              "  </div>\n",
              "  "
            ]
          },
          "metadata": {},
          "execution_count": 3
        }
      ]
    },
    {
      "cell_type": "code",
      "source": [
        "data.shape"
      ],
      "metadata": {
        "colab": {
          "base_uri": "https://localhost:8080/"
        },
        "id": "Te_xWl56NxPP",
        "outputId": "6dcc4990-34b3-41b7-e8d2-524f21205177"
      },
      "execution_count": 4,
      "outputs": [
        {
          "output_type": "execute_result",
          "data": {
            "text/plain": [
              "(73268, 79)"
            ]
          },
          "metadata": {},
          "execution_count": 4
        }
      ]
    },
    {
      "cell_type": "code",
      "source": [
        "data.info()"
      ],
      "metadata": {
        "colab": {
          "base_uri": "https://localhost:8080/"
        },
        "id": "7zPPv9MGNzbo",
        "outputId": "777f0da5-df10-4392-8d6c-ec87a01282e2"
      },
      "execution_count": 5,
      "outputs": [
        {
          "output_type": "stream",
          "name": "stdout",
          "text": [
            "<class 'pandas.core.frame.DataFrame'>\n",
            "RangeIndex: 73268 entries, 0 to 73267\n",
            "Data columns (total 79 columns):\n",
            " #   Column                          Non-Null Count  Dtype  \n",
            "---  ------                          --------------  -----  \n",
            " 0   ResponseId                      73268 non-null  int64  \n",
            " 1   MainBranch                      73268 non-null  object \n",
            " 2   Employment                      71709 non-null  object \n",
            " 3   RemoteWork                      58958 non-null  object \n",
            " 4   CodingActivities                58899 non-null  object \n",
            " 5   EdLevel                         71571 non-null  object \n",
            " 6   LearnCode                       71580 non-null  object \n",
            " 7   LearnCodeOnline                 50685 non-null  object \n",
            " 8   LearnCodeCoursesCert            29389 non-null  object \n",
            " 9   YearsCode                       71331 non-null  object \n",
            " 10  YearsCodePro                    51833 non-null  object \n",
            " 11  DevType                         61302 non-null  object \n",
            " 12  OrgSize                         51039 non-null  object \n",
            " 13  PurchaseInfluence               50969 non-null  object \n",
            " 14  BuyNewTool                      67963 non-null  object \n",
            " 15  Country                         71771 non-null  object \n",
            " 16  Currency                        51264 non-null  object \n",
            " 17  CompTotal                       38422 non-null  float64\n",
            " 18  CompFreq                        44425 non-null  object \n",
            " 19  LanguageHaveWorkedWith          70975 non-null  object \n",
            " 20  LanguageWantToWorkWith          67027 non-null  object \n",
            " 21  DatabaseHaveWorkedWith          60121 non-null  object \n",
            " 22  DatabaseWantToWorkWith          51014 non-null  object \n",
            " 23  PlatformHaveWorkedWith          49924 non-null  object \n",
            " 24  PlatformWantToWorkWith          40415 non-null  object \n",
            " 25  WebframeHaveWorkedWith          53544 non-null  object \n",
            " 26  WebframeWantToWorkWith          46122 non-null  object \n",
            " 27  MiscTechHaveWorkedWith          44992 non-null  object \n",
            " 28  MiscTechWantToWorkWith          36810 non-null  object \n",
            " 29  ToolsTechHaveWorkedWith         54171 non-null  object \n",
            " 30  ToolsTechWantToWorkWith         46566 non-null  object \n",
            " 31  NEWCollabToolsHaveWorkedWith    70347 non-null  object \n",
            " 32  NEWCollabToolsWantToWorkWith    64108 non-null  object \n",
            " 33  OpSysProfessional use           65503 non-null  object \n",
            " 34  OpSysPersonal use               70963 non-null  object \n",
            " 35  VersionControlSystem            71379 non-null  object \n",
            " 36  VCInteraction                   68156 non-null  object \n",
            " 37  VCHostingPersonal use           0 non-null      float64\n",
            " 38  VCHostingProfessional use       0 non-null      float64\n",
            " 39  OfficeStackAsyncHaveWorkedWith  46223 non-null  object \n",
            " 40  OfficeStackAsyncWantToWorkWith  32072 non-null  object \n",
            " 41  OfficeStackSyncHaveWorkedWith   62128 non-null  object \n",
            " 42  OfficeStackSyncWantToWorkWith   47688 non-null  object \n",
            " 43  Blockchain                      71071 non-null  object \n",
            " 44  NEWSOSites                      71365 non-null  object \n",
            " 45  SOVisitFreq                     70961 non-null  object \n",
            " 46  SOAccount                       71572 non-null  object \n",
            " 47  SOPartFreq                      58229 non-null  object \n",
            " 48  SOComm                          71408 non-null  object \n",
            " 49  Age                             70946 non-null  object \n",
            " 50  Gender                          70853 non-null  object \n",
            " 51  Trans                           70315 non-null  object \n",
            " 52  Sexuality                       66565 non-null  object \n",
            " 53  Ethnicity                       69474 non-null  object \n",
            " 54  Accessibility                   67244 non-null  object \n",
            " 55  MentalHealth                    66447 non-null  object \n",
            " 56  TBranch                         52670 non-null  object \n",
            " 57  ICorPM                          36283 non-null  object \n",
            " 58  WorkExp                         36769 non-null  float64\n",
            " 59  Knowledge_1                     35804 non-null  object \n",
            " 60  Knowledge_2                     34973 non-null  object \n",
            " 61  Knowledge_3                     35133 non-null  object \n",
            " 62  Knowledge_4                     35097 non-null  object \n",
            " 63  Knowledge_5                     35014 non-null  object \n",
            " 64  Knowledge_6                     34991 non-null  object \n",
            " 65  Knowledge_7                     34977 non-null  object \n",
            " 66  Frequency_1                     35371 non-null  object \n",
            " 67  Frequency_2                     35344 non-null  object \n",
            " 68  Frequency_3                     34515 non-null  object \n",
            " 69  TimeSearching                   36198 non-null  object \n",
            " 70  TimeAnswering                   36022 non-null  object \n",
            " 71  Onboarding                      35679 non-null  object \n",
            " 72  ProfessionalTech                34906 non-null  object \n",
            " 73  TrueFalse_1                     35819 non-null  object \n",
            " 74  TrueFalse_2                     35715 non-null  object \n",
            " 75  TrueFalse_3                     35749 non-null  object \n",
            " 76  SurveyLength                    70444 non-null  object \n",
            " 77  SurveyEase                      70508 non-null  object \n",
            " 78  ConvertedCompYearly             38071 non-null  float64\n",
            "dtypes: float64(5), int64(1), object(73)\n",
            "memory usage: 44.2+ MB\n"
          ]
        }
      ]
    },
    {
      "cell_type": "markdown",
      "source": [
        "# Exploratory Data Analysis (EDA)"
      ],
      "metadata": {
        "id": "jLw_tMQYSdFI"
      }
    },
    {
      "cell_type": "code",
      "source": [
        "data = data[['Country','EdLevel','YearsCodePro','Employment','ConvertedCompYearly']]\n",
        "data.head()"
      ],
      "metadata": {
        "colab": {
          "base_uri": "https://localhost:8080/",
          "height": 206
        },
        "id": "DB3gXyZ4N00p",
        "outputId": "da7c266e-0bc4-451e-b4b5-d7e63a7c87b6"
      },
      "execution_count": 6,
      "outputs": [
        {
          "output_type": "execute_result",
          "data": {
            "text/plain": [
              "                                             Country  \\\n",
              "0                                                NaN   \n",
              "1                                             Canada   \n",
              "2  United Kingdom of Great Britain and Northern I...   \n",
              "3                                             Israel   \n",
              "4                           United States of America   \n",
              "\n",
              "                                           EdLevel YearsCodePro  \\\n",
              "0                                              NaN          NaN   \n",
              "1                                              NaN          NaN   \n",
              "2  Master’s degree (M.A., M.S., M.Eng., MBA, etc.)            5   \n",
              "3     Bachelor’s degree (B.A., B.S., B.Eng., etc.)           17   \n",
              "4     Bachelor’s degree (B.A., B.S., B.Eng., etc.)            3   \n",
              "\n",
              "            Employment  ConvertedCompYearly  \n",
              "0                  NaN                  NaN  \n",
              "1  Employed, full-time                  NaN  \n",
              "2  Employed, full-time              40205.0  \n",
              "3  Employed, full-time             215232.0  \n",
              "4  Employed, full-time                  NaN  "
            ],
            "text/html": [
              "\n",
              "  <div id=\"df-3a6d1d73-4701-47ee-af0d-02657ef124a8\">\n",
              "    <div class=\"colab-df-container\">\n",
              "      <div>\n",
              "<style scoped>\n",
              "    .dataframe tbody tr th:only-of-type {\n",
              "        vertical-align: middle;\n",
              "    }\n",
              "\n",
              "    .dataframe tbody tr th {\n",
              "        vertical-align: top;\n",
              "    }\n",
              "\n",
              "    .dataframe thead th {\n",
              "        text-align: right;\n",
              "    }\n",
              "</style>\n",
              "<table border=\"1\" class=\"dataframe\">\n",
              "  <thead>\n",
              "    <tr style=\"text-align: right;\">\n",
              "      <th></th>\n",
              "      <th>Country</th>\n",
              "      <th>EdLevel</th>\n",
              "      <th>YearsCodePro</th>\n",
              "      <th>Employment</th>\n",
              "      <th>ConvertedCompYearly</th>\n",
              "    </tr>\n",
              "  </thead>\n",
              "  <tbody>\n",
              "    <tr>\n",
              "      <th>0</th>\n",
              "      <td>NaN</td>\n",
              "      <td>NaN</td>\n",
              "      <td>NaN</td>\n",
              "      <td>NaN</td>\n",
              "      <td>NaN</td>\n",
              "    </tr>\n",
              "    <tr>\n",
              "      <th>1</th>\n",
              "      <td>Canada</td>\n",
              "      <td>NaN</td>\n",
              "      <td>NaN</td>\n",
              "      <td>Employed, full-time</td>\n",
              "      <td>NaN</td>\n",
              "    </tr>\n",
              "    <tr>\n",
              "      <th>2</th>\n",
              "      <td>United Kingdom of Great Britain and Northern I...</td>\n",
              "      <td>Master’s degree (M.A., M.S., M.Eng., MBA, etc.)</td>\n",
              "      <td>5</td>\n",
              "      <td>Employed, full-time</td>\n",
              "      <td>40205.0</td>\n",
              "    </tr>\n",
              "    <tr>\n",
              "      <th>3</th>\n",
              "      <td>Israel</td>\n",
              "      <td>Bachelor’s degree (B.A., B.S., B.Eng., etc.)</td>\n",
              "      <td>17</td>\n",
              "      <td>Employed, full-time</td>\n",
              "      <td>215232.0</td>\n",
              "    </tr>\n",
              "    <tr>\n",
              "      <th>4</th>\n",
              "      <td>United States of America</td>\n",
              "      <td>Bachelor’s degree (B.A., B.S., B.Eng., etc.)</td>\n",
              "      <td>3</td>\n",
              "      <td>Employed, full-time</td>\n",
              "      <td>NaN</td>\n",
              "    </tr>\n",
              "  </tbody>\n",
              "</table>\n",
              "</div>\n",
              "      <button class=\"colab-df-convert\" onclick=\"convertToInteractive('df-3a6d1d73-4701-47ee-af0d-02657ef124a8')\"\n",
              "              title=\"Convert this dataframe to an interactive table.\"\n",
              "              style=\"display:none;\">\n",
              "        \n",
              "  <svg xmlns=\"http://www.w3.org/2000/svg\" height=\"24px\"viewBox=\"0 0 24 24\"\n",
              "       width=\"24px\">\n",
              "    <path d=\"M0 0h24v24H0V0z\" fill=\"none\"/>\n",
              "    <path d=\"M18.56 5.44l.94 2.06.94-2.06 2.06-.94-2.06-.94-.94-2.06-.94 2.06-2.06.94zm-11 1L8.5 8.5l.94-2.06 2.06-.94-2.06-.94L8.5 2.5l-.94 2.06-2.06.94zm10 10l.94 2.06.94-2.06 2.06-.94-2.06-.94-.94-2.06-.94 2.06-2.06.94z\"/><path d=\"M17.41 7.96l-1.37-1.37c-.4-.4-.92-.59-1.43-.59-.52 0-1.04.2-1.43.59L10.3 9.45l-7.72 7.72c-.78.78-.78 2.05 0 2.83L4 21.41c.39.39.9.59 1.41.59.51 0 1.02-.2 1.41-.59l7.78-7.78 2.81-2.81c.8-.78.8-2.07 0-2.86zM5.41 20L4 18.59l7.72-7.72 1.47 1.35L5.41 20z\"/>\n",
              "  </svg>\n",
              "      </button>\n",
              "      \n",
              "  <style>\n",
              "    .colab-df-container {\n",
              "      display:flex;\n",
              "      flex-wrap:wrap;\n",
              "      gap: 12px;\n",
              "    }\n",
              "\n",
              "    .colab-df-convert {\n",
              "      background-color: #E8F0FE;\n",
              "      border: none;\n",
              "      border-radius: 50%;\n",
              "      cursor: pointer;\n",
              "      display: none;\n",
              "      fill: #1967D2;\n",
              "      height: 32px;\n",
              "      padding: 0 0 0 0;\n",
              "      width: 32px;\n",
              "    }\n",
              "\n",
              "    .colab-df-convert:hover {\n",
              "      background-color: #E2EBFA;\n",
              "      box-shadow: 0px 1px 2px rgba(60, 64, 67, 0.3), 0px 1px 3px 1px rgba(60, 64, 67, 0.15);\n",
              "      fill: #174EA6;\n",
              "    }\n",
              "\n",
              "    [theme=dark] .colab-df-convert {\n",
              "      background-color: #3B4455;\n",
              "      fill: #D2E3FC;\n",
              "    }\n",
              "\n",
              "    [theme=dark] .colab-df-convert:hover {\n",
              "      background-color: #434B5C;\n",
              "      box-shadow: 0px 1px 3px 1px rgba(0, 0, 0, 0.15);\n",
              "      filter: drop-shadow(0px 1px 2px rgba(0, 0, 0, 0.3));\n",
              "      fill: #FFFFFF;\n",
              "    }\n",
              "  </style>\n",
              "\n",
              "      <script>\n",
              "        const buttonEl =\n",
              "          document.querySelector('#df-3a6d1d73-4701-47ee-af0d-02657ef124a8 button.colab-df-convert');\n",
              "        buttonEl.style.display =\n",
              "          google.colab.kernel.accessAllowed ? 'block' : 'none';\n",
              "\n",
              "        async function convertToInteractive(key) {\n",
              "          const element = document.querySelector('#df-3a6d1d73-4701-47ee-af0d-02657ef124a8');\n",
              "          const dataTable =\n",
              "            await google.colab.kernel.invokeFunction('convertToInteractive',\n",
              "                                                     [key], {});\n",
              "          if (!dataTable) return;\n",
              "\n",
              "          const docLinkHtml = 'Like what you see? Visit the ' +\n",
              "            '<a target=\"_blank\" href=https://colab.research.google.com/notebooks/data_table.ipynb>data table notebook</a>'\n",
              "            + ' to learn more about interactive tables.';\n",
              "          element.innerHTML = '';\n",
              "          dataTable['output_type'] = 'display_data';\n",
              "          await google.colab.output.renderOutput(dataTable, element);\n",
              "          const docLink = document.createElement('div');\n",
              "          docLink.innerHTML = docLinkHtml;\n",
              "          element.appendChild(docLink);\n",
              "        }\n",
              "      </script>\n",
              "    </div>\n",
              "  </div>\n",
              "  "
            ]
          },
          "metadata": {},
          "execution_count": 6
        }
      ]
    },
    {
      "cell_type": "code",
      "source": [
        "data.rename(columns={'ConvertedCompYearly':'Salary'},inplace=True)"
      ],
      "metadata": {
        "colab": {
          "base_uri": "https://localhost:8080/"
        },
        "id": "sAI3fVpdd8pB",
        "outputId": "e8b43e9e-5dd2-486f-aab6-b5e128e2c540"
      },
      "execution_count": 7,
      "outputs": [
        {
          "output_type": "stream",
          "name": "stderr",
          "text": [
            "/usr/local/lib/python3.8/dist-packages/pandas/core/frame.py:5039: SettingWithCopyWarning: \n",
            "A value is trying to be set on a copy of a slice from a DataFrame\n",
            "\n",
            "See the caveats in the documentation: https://pandas.pydata.org/pandas-docs/stable/user_guide/indexing.html#returning-a-view-versus-a-copy\n",
            "  return super().rename(\n"
          ]
        }
      ]
    },
    {
      "cell_type": "code",
      "source": [
        "data.head()"
      ],
      "metadata": {
        "colab": {
          "base_uri": "https://localhost:8080/",
          "height": 206
        },
        "id": "GPf-4CjAedo5",
        "outputId": "4778a0f0-9199-436f-ff89-a44ccf04a6c9"
      },
      "execution_count": 8,
      "outputs": [
        {
          "output_type": "execute_result",
          "data": {
            "text/plain": [
              "                                             Country  \\\n",
              "0                                                NaN   \n",
              "1                                             Canada   \n",
              "2  United Kingdom of Great Britain and Northern I...   \n",
              "3                                             Israel   \n",
              "4                           United States of America   \n",
              "\n",
              "                                           EdLevel YearsCodePro  \\\n",
              "0                                              NaN          NaN   \n",
              "1                                              NaN          NaN   \n",
              "2  Master’s degree (M.A., M.S., M.Eng., MBA, etc.)            5   \n",
              "3     Bachelor’s degree (B.A., B.S., B.Eng., etc.)           17   \n",
              "4     Bachelor’s degree (B.A., B.S., B.Eng., etc.)            3   \n",
              "\n",
              "            Employment    Salary  \n",
              "0                  NaN       NaN  \n",
              "1  Employed, full-time       NaN  \n",
              "2  Employed, full-time   40205.0  \n",
              "3  Employed, full-time  215232.0  \n",
              "4  Employed, full-time       NaN  "
            ],
            "text/html": [
              "\n",
              "  <div id=\"df-60e2ad3e-1c94-44db-855a-4ea802bc9e65\">\n",
              "    <div class=\"colab-df-container\">\n",
              "      <div>\n",
              "<style scoped>\n",
              "    .dataframe tbody tr th:only-of-type {\n",
              "        vertical-align: middle;\n",
              "    }\n",
              "\n",
              "    .dataframe tbody tr th {\n",
              "        vertical-align: top;\n",
              "    }\n",
              "\n",
              "    .dataframe thead th {\n",
              "        text-align: right;\n",
              "    }\n",
              "</style>\n",
              "<table border=\"1\" class=\"dataframe\">\n",
              "  <thead>\n",
              "    <tr style=\"text-align: right;\">\n",
              "      <th></th>\n",
              "      <th>Country</th>\n",
              "      <th>EdLevel</th>\n",
              "      <th>YearsCodePro</th>\n",
              "      <th>Employment</th>\n",
              "      <th>Salary</th>\n",
              "    </tr>\n",
              "  </thead>\n",
              "  <tbody>\n",
              "    <tr>\n",
              "      <th>0</th>\n",
              "      <td>NaN</td>\n",
              "      <td>NaN</td>\n",
              "      <td>NaN</td>\n",
              "      <td>NaN</td>\n",
              "      <td>NaN</td>\n",
              "    </tr>\n",
              "    <tr>\n",
              "      <th>1</th>\n",
              "      <td>Canada</td>\n",
              "      <td>NaN</td>\n",
              "      <td>NaN</td>\n",
              "      <td>Employed, full-time</td>\n",
              "      <td>NaN</td>\n",
              "    </tr>\n",
              "    <tr>\n",
              "      <th>2</th>\n",
              "      <td>United Kingdom of Great Britain and Northern I...</td>\n",
              "      <td>Master’s degree (M.A., M.S., M.Eng., MBA, etc.)</td>\n",
              "      <td>5</td>\n",
              "      <td>Employed, full-time</td>\n",
              "      <td>40205.0</td>\n",
              "    </tr>\n",
              "    <tr>\n",
              "      <th>3</th>\n",
              "      <td>Israel</td>\n",
              "      <td>Bachelor’s degree (B.A., B.S., B.Eng., etc.)</td>\n",
              "      <td>17</td>\n",
              "      <td>Employed, full-time</td>\n",
              "      <td>215232.0</td>\n",
              "    </tr>\n",
              "    <tr>\n",
              "      <th>4</th>\n",
              "      <td>United States of America</td>\n",
              "      <td>Bachelor’s degree (B.A., B.S., B.Eng., etc.)</td>\n",
              "      <td>3</td>\n",
              "      <td>Employed, full-time</td>\n",
              "      <td>NaN</td>\n",
              "    </tr>\n",
              "  </tbody>\n",
              "</table>\n",
              "</div>\n",
              "      <button class=\"colab-df-convert\" onclick=\"convertToInteractive('df-60e2ad3e-1c94-44db-855a-4ea802bc9e65')\"\n",
              "              title=\"Convert this dataframe to an interactive table.\"\n",
              "              style=\"display:none;\">\n",
              "        \n",
              "  <svg xmlns=\"http://www.w3.org/2000/svg\" height=\"24px\"viewBox=\"0 0 24 24\"\n",
              "       width=\"24px\">\n",
              "    <path d=\"M0 0h24v24H0V0z\" fill=\"none\"/>\n",
              "    <path d=\"M18.56 5.44l.94 2.06.94-2.06 2.06-.94-2.06-.94-.94-2.06-.94 2.06-2.06.94zm-11 1L8.5 8.5l.94-2.06 2.06-.94-2.06-.94L8.5 2.5l-.94 2.06-2.06.94zm10 10l.94 2.06.94-2.06 2.06-.94-2.06-.94-.94-2.06-.94 2.06-2.06.94z\"/><path d=\"M17.41 7.96l-1.37-1.37c-.4-.4-.92-.59-1.43-.59-.52 0-1.04.2-1.43.59L10.3 9.45l-7.72 7.72c-.78.78-.78 2.05 0 2.83L4 21.41c.39.39.9.59 1.41.59.51 0 1.02-.2 1.41-.59l7.78-7.78 2.81-2.81c.8-.78.8-2.07 0-2.86zM5.41 20L4 18.59l7.72-7.72 1.47 1.35L5.41 20z\"/>\n",
              "  </svg>\n",
              "      </button>\n",
              "      \n",
              "  <style>\n",
              "    .colab-df-container {\n",
              "      display:flex;\n",
              "      flex-wrap:wrap;\n",
              "      gap: 12px;\n",
              "    }\n",
              "\n",
              "    .colab-df-convert {\n",
              "      background-color: #E8F0FE;\n",
              "      border: none;\n",
              "      border-radius: 50%;\n",
              "      cursor: pointer;\n",
              "      display: none;\n",
              "      fill: #1967D2;\n",
              "      height: 32px;\n",
              "      padding: 0 0 0 0;\n",
              "      width: 32px;\n",
              "    }\n",
              "\n",
              "    .colab-df-convert:hover {\n",
              "      background-color: #E2EBFA;\n",
              "      box-shadow: 0px 1px 2px rgba(60, 64, 67, 0.3), 0px 1px 3px 1px rgba(60, 64, 67, 0.15);\n",
              "      fill: #174EA6;\n",
              "    }\n",
              "\n",
              "    [theme=dark] .colab-df-convert {\n",
              "      background-color: #3B4455;\n",
              "      fill: #D2E3FC;\n",
              "    }\n",
              "\n",
              "    [theme=dark] .colab-df-convert:hover {\n",
              "      background-color: #434B5C;\n",
              "      box-shadow: 0px 1px 3px 1px rgba(0, 0, 0, 0.15);\n",
              "      filter: drop-shadow(0px 1px 2px rgba(0, 0, 0, 0.3));\n",
              "      fill: #FFFFFF;\n",
              "    }\n",
              "  </style>\n",
              "\n",
              "      <script>\n",
              "        const buttonEl =\n",
              "          document.querySelector('#df-60e2ad3e-1c94-44db-855a-4ea802bc9e65 button.colab-df-convert');\n",
              "        buttonEl.style.display =\n",
              "          google.colab.kernel.accessAllowed ? 'block' : 'none';\n",
              "\n",
              "        async function convertToInteractive(key) {\n",
              "          const element = document.querySelector('#df-60e2ad3e-1c94-44db-855a-4ea802bc9e65');\n",
              "          const dataTable =\n",
              "            await google.colab.kernel.invokeFunction('convertToInteractive',\n",
              "                                                     [key], {});\n",
              "          if (!dataTable) return;\n",
              "\n",
              "          const docLinkHtml = 'Like what you see? Visit the ' +\n",
              "            '<a target=\"_blank\" href=https://colab.research.google.com/notebooks/data_table.ipynb>data table notebook</a>'\n",
              "            + ' to learn more about interactive tables.';\n",
              "          element.innerHTML = '';\n",
              "          dataTable['output_type'] = 'display_data';\n",
              "          await google.colab.output.renderOutput(dataTable, element);\n",
              "          const docLink = document.createElement('div');\n",
              "          docLink.innerHTML = docLinkHtml;\n",
              "          element.appendChild(docLink);\n",
              "        }\n",
              "      </script>\n",
              "    </div>\n",
              "  </div>\n",
              "  "
            ]
          },
          "metadata": {},
          "execution_count": 8
        }
      ]
    },
    {
      "cell_type": "code",
      "source": [
        "data.isnull().sum()"
      ],
      "metadata": {
        "colab": {
          "base_uri": "https://localhost:8080/"
        },
        "id": "nsgP0ArfPsw9",
        "outputId": "a7785b5e-d208-44a5-b4e7-517964d39126"
      },
      "execution_count": 9,
      "outputs": [
        {
          "output_type": "execute_result",
          "data": {
            "text/plain": [
              "Country          1497\n",
              "EdLevel          1697\n",
              "YearsCodePro    21435\n",
              "Employment       1559\n",
              "Salary          35197\n",
              "dtype: int64"
            ]
          },
          "metadata": {},
          "execution_count": 9
        }
      ]
    },
    {
      "cell_type": "code",
      "source": [
        "data = data.dropna()"
      ],
      "metadata": {
        "id": "tm7AlLBGPgms"
      },
      "execution_count": 10,
      "outputs": []
    },
    {
      "cell_type": "code",
      "source": [
        "data.isnull().sum()"
      ],
      "metadata": {
        "colab": {
          "base_uri": "https://localhost:8080/"
        },
        "id": "jItOTwOxQHzn",
        "outputId": "d3701045-1a51-41fe-af82-e9e78411eddd"
      },
      "execution_count": 11,
      "outputs": [
        {
          "output_type": "execute_result",
          "data": {
            "text/plain": [
              "Country         0\n",
              "EdLevel         0\n",
              "YearsCodePro    0\n",
              "Employment      0\n",
              "Salary          0\n",
              "dtype: int64"
            ]
          },
          "metadata": {},
          "execution_count": 11
        }
      ]
    },
    {
      "cell_type": "code",
      "source": [
        "data.shape"
      ],
      "metadata": {
        "colab": {
          "base_uri": "https://localhost:8080/"
        },
        "id": "GlCPAJk_QMMo",
        "outputId": "b42456cd-ab86-4a52-ca69-4b94f88f4963"
      },
      "execution_count": 12,
      "outputs": [
        {
          "output_type": "execute_result",
          "data": {
            "text/plain": [
              "(37919, 5)"
            ]
          },
          "metadata": {},
          "execution_count": 12
        }
      ]
    },
    {
      "cell_type": "markdown",
      "source": [
        "From = (73268, 79)\n",
        "\n",
        "To = (37919, 5)\n",
        "\n",
        "=SUM(73268 - 37919)\n",
        "\n",
        "=35.349"
      ],
      "metadata": {
        "id": "Z-mooDL2epta"
      }
    },
    {
      "cell_type": "markdown",
      "source": [
        "##Unique Kolom"
      ],
      "metadata": {
        "id": "yC1GoQicQeMs"
      }
    },
    {
      "cell_type": "code",
      "source": [
        "data['Country'].value_counts()"
      ],
      "metadata": {
        "colab": {
          "base_uri": "https://localhost:8080/"
        },
        "id": "iXOdGWU9QWQH",
        "outputId": "4089d5b2-b89c-42e4-acc5-c11321dcf901"
      },
      "execution_count": 13,
      "outputs": [
        {
          "output_type": "execute_result",
          "data": {
            "text/plain": [
              "United States of America                                8684\n",
              "Germany                                                 2901\n",
              "United Kingdom of Great Britain and Northern Ireland    2649\n",
              "India                                                   2154\n",
              "Canada                                                  1478\n",
              "                                                        ... \n",
              "Fiji                                                       1\n",
              "Palau                                                      1\n",
              "Monaco                                                     1\n",
              "Saint Lucia                                                1\n",
              "Seychelles                                                 1\n",
              "Name: Country, Length: 159, dtype: int64"
            ]
          },
          "metadata": {},
          "execution_count": 13
        }
      ]
    },
    {
      "cell_type": "code",
      "source": [
        "data['EdLevel'].value_counts()"
      ],
      "metadata": {
        "colab": {
          "base_uri": "https://localhost:8080/"
        },
        "id": "z6tLEcvoQgeO",
        "outputId": "0061b3f7-eb63-4eea-97a9-bab704b2d2e9"
      },
      "execution_count": 14,
      "outputs": [
        {
          "output_type": "execute_result",
          "data": {
            "text/plain": [
              "Bachelor’s degree (B.A., B.S., B.Eng., etc.)                                          17992\n",
              "Master’s degree (M.A., M.S., M.Eng., MBA, etc.)                                        9846\n",
              "Some college/university study without earning a degree                                 4482\n",
              "Secondary school (e.g. American high school, German Realschule or Gymnasium, etc.)     1771\n",
              "Other doctoral degree (Ph.D., Ed.D., etc.)                                             1360\n",
              "Associate degree (A.A., A.S., etc.)                                                    1267\n",
              "Professional degree (JD, MD, etc.)                                                      620\n",
              "Something else                                                                          358\n",
              "Primary/elementary school                                                               223\n",
              "Name: EdLevel, dtype: int64"
            ]
          },
          "metadata": {},
          "execution_count": 14
        }
      ]
    },
    {
      "cell_type": "code",
      "source": [
        "data['YearsCodePro'].value_counts()"
      ],
      "metadata": {
        "colab": {
          "base_uri": "https://localhost:8080/"
        },
        "id": "h3WDCsEmQ1Gr",
        "outputId": "e12473fe-53e1-47de-bd25-d1d9985d7dba"
      },
      "execution_count": 15,
      "outputs": [
        {
          "output_type": "execute_result",
          "data": {
            "text/plain": [
              "3                     3135\n",
              "5                     3095\n",
              "4                     2892\n",
              "2                     2805\n",
              "10                    2462\n",
              "6                     2417\n",
              "7                     2129\n",
              "8                     2036\n",
              "1                     1870\n",
              "Less than 1 year      1379\n",
              "15                    1314\n",
              "12                    1296\n",
              "9                     1254\n",
              "11                    1064\n",
              "20                     958\n",
              "14                     805\n",
              "13                     702\n",
              "16                     665\n",
              "22                     656\n",
              "18                     578\n",
              "25                     574\n",
              "17                     549\n",
              "30                     345\n",
              "24                     329\n",
              "23                     323\n",
              "21                     305\n",
              "19                     274\n",
              "26                     222\n",
              "27                     189\n",
              "28                     174\n",
              "35                     163\n",
              "32                     151\n",
              "40                      90\n",
              "31                      84\n",
              "29                      80\n",
              "36                      77\n",
              "33                      75\n",
              "34                      71\n",
              "37                      70\n",
              "38                      66\n",
              "42                      34\n",
              "39                      31\n",
              "41                      25\n",
              "45                      22\n",
              "43                      21\n",
              "44                      14\n",
              "More than 50 years      13\n",
              "48                       9\n",
              "46                       8\n",
              "50                       7\n",
              "49                       7\n",
              "47                       5\n",
              "Name: YearsCodePro, dtype: int64"
            ]
          },
          "metadata": {},
          "execution_count": 15
        }
      ]
    },
    {
      "cell_type": "code",
      "source": [
        "data['Employment'].value_counts()"
      ],
      "metadata": {
        "colab": {
          "base_uri": "https://localhost:8080/"
        },
        "id": "R4Sr18oYQ7LY",
        "outputId": "7e994dcd-eb21-411e-a76e-6bb71670c5bb"
      },
      "execution_count": 16,
      "outputs": [
        {
          "output_type": "execute_result",
          "data": {
            "text/plain": [
              "Employed, full-time                                                                             31382\n",
              "Independent contractor, freelancer, or self-employed                                             2739\n",
              "Employed, full-time;Independent contractor, freelancer, or self-employed                         2633\n",
              "Employed, part-time                                                                               632\n",
              "Independent contractor, freelancer, or self-employed;Employed, part-time                          207\n",
              "Employed, full-time;Employed, part-time                                                           151\n",
              "Employed, full-time;Independent contractor, freelancer, or self-employed;Employed, part-time      118\n",
              "I prefer not to say                                                                                27\n",
              "Retired                                                                                            18\n",
              "Employed, part-time;Retired                                                                         5\n",
              "Independent contractor, freelancer, or self-employed;Retired                                        3\n",
              "Employed, full-time;Independent contractor, freelancer, or self-employed;Retired                    3\n",
              "Employed, full-time;Retired                                                                         1\n",
              "Name: Employment, dtype: int64"
            ]
          },
          "metadata": {},
          "execution_count": 16
        }
      ]
    },
    {
      "cell_type": "markdown",
      "source": [
        "## Salary Based on Country"
      ],
      "metadata": {
        "id": "zt27O3eioExn"
      }
    },
    {
      "cell_type": "code",
      "source": [
        "def shortCategory(categories,cutoff):\n",
        "    categorical_map={}\n",
        "    for i in range(len(categories)):\n",
        "        if categories.values[i]>=cutoff:\n",
        "            categorical_map[categories.index[i]] =categories.index[i]\n",
        "        else:\n",
        "             categorical_map[categories.index[i]]='Other'\n",
        "    return categorical_map"
      ],
      "metadata": {
        "id": "wfTzGIn7RCGb"
      },
      "execution_count": 17,
      "outputs": []
    },
    {
      "cell_type": "code",
      "source": [
        "country_map = shortCategory(data.Country.value_counts(),400)\n",
        "data['Country'] = data['Country'].map(country_map)\n",
        "data.Country.value_counts()"
      ],
      "metadata": {
        "colab": {
          "base_uri": "https://localhost:8080/"
        },
        "id": "wNqtcs4wf3H6",
        "outputId": "80de719d-ea7f-44a9-a7e0-ab1e8cec0631"
      },
      "execution_count": 18,
      "outputs": [
        {
          "output_type": "execute_result",
          "data": {
            "text/plain": [
              "Other                                                   10328\n",
              "United States of America                                 8684\n",
              "Germany                                                  2901\n",
              "United Kingdom of Great Britain and Northern Ireland     2649\n",
              "India                                                    2154\n",
              "Canada                                                   1478\n",
              "France                                                   1372\n",
              "Brazil                                                   1279\n",
              "Spain                                                     992\n",
              "Poland                                                    973\n",
              "Netherlands                                               897\n",
              "Australia                                                 830\n",
              "Italy                                                     807\n",
              "Sweden                                                    664\n",
              "Russian Federation                                        533\n",
              "Switzerland                                               520\n",
              "Turkey                                                    446\n",
              "Austria                                                   412\n",
              "Name: Country, dtype: int64"
            ]
          },
          "metadata": {},
          "execution_count": 18
        }
      ]
    },
    {
      "cell_type": "code",
      "source": [
        "fig, ax = plt.subplots(1,1,figsize=(12,7))\n",
        "data.boxplot('Salary','Country',ax = ax)\n",
        "plt.suptitle('Salary (Us$) country')\n",
        "plt.title('Oreoluwa')\n",
        "plt.ylabel('Salary')\n",
        "plt.xticks(rotation = 90)\n",
        "plt.show"
      ],
      "metadata": {
        "colab": {
          "base_uri": "https://localhost:8080/",
          "height": 813
        },
        "id": "Mg3LrlP3gH5o",
        "outputId": "a6c6d10c-c9fc-47d0-9cbe-407e02612ffd"
      },
      "execution_count": 19,
      "outputs": [
        {
          "output_type": "stream",
          "name": "stderr",
          "text": [
            "/usr/local/lib/python3.8/dist-packages/matplotlib/cbook/__init__.py:1376: VisibleDeprecationWarning: Creating an ndarray from ragged nested sequences (which is a list-or-tuple of lists-or-tuples-or ndarrays with different lengths or shapes) is deprecated. If you meant to do this, you must specify 'dtype=object' when creating the ndarray.\n",
            "  X = np.atleast_1d(X.T if isinstance(X, np.ndarray) else np.asarray(X))\n"
          ]
        },
        {
          "output_type": "execute_result",
          "data": {
            "text/plain": [
              "<function matplotlib.pyplot.show(*args, **kw)>"
            ]
          },
          "metadata": {},
          "execution_count": 19
        },
        {
          "output_type": "display_data",
          "data": {
            "text/plain": [
              "<Figure size 864x504 with 1 Axes>"
            ],
            "image/png": "[encoded data removed]"
          },
          "metadata": {
            "needs_background": "light"
          }
        }
      ]
    },
    {
      "cell_type": "code",
      "source": [
        "data = data[(data.Salary >= 0) & (data.Salary < 1000000)]"
      ],
      "metadata": {
        "id": "n_vo4hQjkyF6"
      },
      "execution_count": 20,
      "outputs": []
    },
    {
      "cell_type": "code",
      "source": [
        "fig, ax = plt.subplots(1,1,figsize=(12,7))\n",
        "data.boxplot('Salary','Country',ax = ax)\n",
        "plt.suptitle('Salary (Us$) country')\n",
        "plt.title('Oreoluwa')\n",
        "plt.ylabel('Salary')\n",
        "plt.xticks(rotation = 90)\n",
        "plt.show"
      ],
      "metadata": {
        "colab": {
          "base_uri": "https://localhost:8080/",
          "height": 813
        },
        "id": "r8U5aP4ClIOG",
        "outputId": "b303d9cb-69ab-41ac-87d7-c0768a182e3b"
      },
      "execution_count": 21,
      "outputs": [
        {
          "output_type": "stream",
          "name": "stderr",
          "text": [
            "/usr/local/lib/python3.8/dist-packages/matplotlib/cbook/__init__.py:1376: VisibleDeprecationWarning: Creating an ndarray from ragged nested sequences (which is a list-or-tuple of lists-or-tuples-or ndarrays with different lengths or shapes) is deprecated. If you meant to do this, you must specify 'dtype=object' when creating the ndarray.\n",
            "  X = np.atleast_1d(X.T if isinstance(X, np.ndarray) else np.asarray(X))\n"
          ]
        },
        {
          "output_type": "execute_result",
          "data": {
            "text/plain": [
              "<function matplotlib.pyplot.show(*args, **kw)>"
            ]
          },
          "metadata": {},
          "execution_count": 21
        },
        {
          "output_type": "display_data",
          "data": {
            "text/plain": [
              "<Figure size 864x504 with 1 Axes>"
            ],
            "image/png": "[encoded data removed]"
          },
          "metadata": {
            "needs_background": "light"
          }
        }
      ]
    },
    {
      "cell_type": "markdown",
      "source": [
        "## Years Code Pro"
      ],
      "metadata": {
        "id": "nw7qwHnYoIDn"
      }
    },
    {
      "cell_type": "code",
      "source": [
        "data['YearsCodePro'].unique()"
      ],
      "metadata": {
        "colab": {
          "base_uri": "https://localhost:8080/"
        },
        "id": "_uE4bO3DoKpJ",
        "outputId": "56b1846c-b547-4c8c-f3c0-2cf857c8436e"
      },
      "execution_count": 22,
      "outputs": [
        {
          "output_type": "execute_result",
          "data": {
            "text/plain": [
              "array(['5', '17', '6', '2', '10', '4', '22', '20', '9', '14', '21', '15',\n",
              "       '3', '25', '7', '8', '12', '19', '1', '24', '11', '23', '45',\n",
              "       'Less than 1 year', '18', '40', '37', '46', '13', '32', '31', '39',\n",
              "       '27', '28', '16', '26', '30', '34', '35', '29', '42', '38', '36',\n",
              "       '43', '41', '44', '48', '33', 'More than 50 years', '50', '47',\n",
              "       '49'], dtype=object)"
            ]
          },
          "metadata": {},
          "execution_count": 22
        }
      ]
    },
    {
      "cell_type": "code",
      "source": [
        "data['YearsCodePro'].value_counts()"
      ],
      "metadata": {
        "colab": {
          "base_uri": "https://localhost:8080/"
        },
        "id": "Po0miRa6oNgk",
        "outputId": "329cb13b-19d5-4439-b6a4-1d1a8015ed4d"
      },
      "execution_count": 23,
      "outputs": [
        {
          "output_type": "execute_result",
          "data": {
            "text/plain": [
              "3                     3077\n",
              "5                     3041\n",
              "4                     2845\n",
              "2                     2768\n",
              "10                    2395\n",
              "6                     2370\n",
              "7                     2091\n",
              "8                     1988\n",
              "1                     1836\n",
              "Less than 1 year      1363\n",
              "15                    1267\n",
              "12                    1260\n",
              "9                     1224\n",
              "11                    1031\n",
              "20                     922\n",
              "14                     784\n",
              "13                     692\n",
              "16                     650\n",
              "22                     630\n",
              "25                     558\n",
              "18                     557\n",
              "17                     535\n",
              "30                     334\n",
              "24                     318\n",
              "23                     306\n",
              "21                     301\n",
              "19                     263\n",
              "26                     211\n",
              "27                     186\n",
              "28                     167\n",
              "35                     156\n",
              "32                     142\n",
              "40                      88\n",
              "31                      79\n",
              "29                      78\n",
              "36                      75\n",
              "33                      72\n",
              "37                      68\n",
              "34                      68\n",
              "38                      63\n",
              "42                      34\n",
              "39                      28\n",
              "41                      25\n",
              "45                      22\n",
              "43                      21\n",
              "44                      14\n",
              "More than 50 years      13\n",
              "48                       9\n",
              "46                       8\n",
              "50                       6\n",
              "49                       6\n",
              "47                       5\n",
              "Name: YearsCodePro, dtype: int64"
            ]
          },
          "metadata": {},
          "execution_count": 23
        }
      ]
    },
    {
      "cell_type": "code",
      "source": [
        "def experience(x):\n",
        "    if x== 'More than 50 years':\n",
        "      return 50\n",
        "    if x== 'Less than 1 year':\n",
        "      return 0.5\n",
        "    return float (x)\n",
        "data['YearsCodePro']= data['YearsCodePro'].apply(experience)"
      ],
      "metadata": {
        "id": "HQRNk-TUoWim"
      },
      "execution_count": 24,
      "outputs": []
    },
    {
      "cell_type": "code",
      "source": [
        "data['YearsCodePro']"
      ],
      "metadata": {
        "colab": {
          "base_uri": "https://localhost:8080/"
        },
        "id": "XFz-DqtmoiQh",
        "outputId": "18f2ce79-6478-487f-e85b-ad5780551b4d"
      },
      "execution_count": 25,
      "outputs": [
        {
          "output_type": "execute_result",
          "data": {
            "text/plain": [
              "2         5.0\n",
              "3        17.0\n",
              "8         6.0\n",
              "10        2.0\n",
              "11       10.0\n",
              "         ... \n",
              "73116    16.0\n",
              "73118     3.0\n",
              "73119     1.0\n",
              "73120     2.0\n",
              "73121     3.0\n",
              "Name: YearsCodePro, Length: 37050, dtype: float64"
            ]
          },
          "metadata": {},
          "execution_count": 25
        }
      ]
    },
    {
      "cell_type": "code",
      "source": [
        "data['YearsCodePro'].nunique()"
      ],
      "metadata": {
        "colab": {
          "base_uri": "https://localhost:8080/"
        },
        "id": "TfGqqH2VolkO",
        "outputId": "f8fd0854-6e61-4810-82e0-a821c988beb6"
      },
      "execution_count": 26,
      "outputs": [
        {
          "output_type": "execute_result",
          "data": {
            "text/plain": [
              "51"
            ]
          },
          "metadata": {},
          "execution_count": 26
        }
      ]
    },
    {
      "cell_type": "code",
      "source": [
        "data['YearsCodePro'].unique()"
      ],
      "metadata": {
        "colab": {
          "base_uri": "https://localhost:8080/"
        },
        "id": "QvofVivnotVN",
        "outputId": "4ac13680-cb3a-4e93-a556-87f1ab3bbd90"
      },
      "execution_count": 27,
      "outputs": [
        {
          "output_type": "execute_result",
          "data": {
            "text/plain": [
              "array([ 5. , 17. ,  6. ,  2. , 10. ,  4. , 22. , 20. ,  9. , 14. , 21. ,\n",
              "       15. ,  3. , 25. ,  7. ,  8. , 12. , 19. ,  1. , 24. , 11. , 23. ,\n",
              "       45. ,  0.5, 18. , 40. , 37. , 46. , 13. , 32. , 31. , 39. , 27. ,\n",
              "       28. , 16. , 26. , 30. , 34. , 35. , 29. , 42. , 38. , 36. , 43. ,\n",
              "       41. , 44. , 48. , 33. , 50. , 47. , 49. ])"
            ]
          },
          "metadata": {},
          "execution_count": 27
        }
      ]
    },
    {
      "cell_type": "markdown",
      "source": [
        "## EdLevel"
      ],
      "metadata": {
        "id": "IbwRinawo7np"
      }
    },
    {
      "cell_type": "code",
      "source": [
        "data['EdLevel'].nunique()"
      ],
      "metadata": {
        "colab": {
          "base_uri": "https://localhost:8080/"
        },
        "id": "VLHiG8P5oxV1",
        "outputId": "d1e1a1ac-4441-4f1f-ff61-03f3e474ef09"
      },
      "execution_count": 28,
      "outputs": [
        {
          "output_type": "execute_result",
          "data": {
            "text/plain": [
              "9"
            ]
          },
          "metadata": {},
          "execution_count": 28
        }
      ]
    },
    {
      "cell_type": "code",
      "source": [
        "data['EdLevel'].unique()"
      ],
      "metadata": {
        "colab": {
          "base_uri": "https://localhost:8080/"
        },
        "id": "OwIUb8ySpf8T",
        "outputId": "03d98024-d2e8-4056-8f15-4355ba58a277"
      },
      "execution_count": 29,
      "outputs": [
        {
          "output_type": "execute_result",
          "data": {
            "text/plain": [
              "array(['Master’s degree (M.A., M.S., M.Eng., MBA, etc.)',\n",
              "       'Bachelor’s degree (B.A., B.S., B.Eng., etc.)',\n",
              "       'Secondary school (e.g. American high school, German Realschule or Gymnasium, etc.)',\n",
              "       'Something else', 'Associate degree (A.A., A.S., etc.)',\n",
              "       'Some college/university study without earning a degree',\n",
              "       'Professional degree (JD, MD, etc.)',\n",
              "       'Other doctoral degree (Ph.D., Ed.D., etc.)',\n",
              "       'Primary/elementary school'], dtype=object)"
            ]
          },
          "metadata": {},
          "execution_count": 29
        }
      ]
    },
    {
      "cell_type": "code",
      "source": [
        "def education(x):\n",
        "    if 'Bachelor’s degree'in x:\n",
        "        return 'Bachelor’s degree'\n",
        "    if 'Master’s degree' in x:\n",
        "        return 'Master’s degree'\n",
        "    if 'Professional degree'in x or  'Other doctoral degree' in x:\n",
        "        return 'Post grad'\n",
        "    return 'Less than a bachelor'\n",
        "    \n",
        "data['EdLevel']= data['EdLevel'].apply(education)"
      ],
      "metadata": {
        "id": "hVuFRQscpjoM"
      },
      "execution_count": 30,
      "outputs": []
    },
    {
      "cell_type": "code",
      "source": [
        "data['EdLevel'].unique()"
      ],
      "metadata": {
        "colab": {
          "base_uri": "https://localhost:8080/"
        },
        "id": "UX7f2YHMp232",
        "outputId": "cc81ea0d-6880-43a1-c03d-045e70c79e7e"
      },
      "execution_count": 31,
      "outputs": [
        {
          "output_type": "execute_result",
          "data": {
            "text/plain": [
              "array(['Master’s degree', 'Bachelor’s degree', 'Less than a bachelor',\n",
              "       'Post grad'], dtype=object)"
            ]
          },
          "metadata": {},
          "execution_count": 31
        }
      ]
    },
    {
      "cell_type": "code",
      "source": [
        "from sklearn.preprocessing import LabelEncoder"
      ],
      "metadata": {
        "id": "xEfBXbfSp5lM"
      },
      "execution_count": 32,
      "outputs": []
    },
    {
      "cell_type": "code",
      "source": [
        "le = LabelEncoder()\n",
        "\n",
        "data['EdLevel'] = le.fit_transform(data['EdLevel'])"
      ],
      "metadata": {
        "id": "u2uBK9qVp-9o"
      },
      "execution_count": 33,
      "outputs": []
    },
    {
      "cell_type": "code",
      "source": [
        "data['EdLevel'].value_counts()"
      ],
      "metadata": {
        "colab": {
          "base_uri": "https://localhost:8080/"
        },
        "id": "SjR2UD1SqFxj",
        "outputId": "cae0a3f7-4ab6-4ed9-b0da-70d3b9536815"
      },
      "execution_count": 34,
      "outputs": [
        {
          "output_type": "execute_result",
          "data": {
            "text/plain": [
              "0    17539\n",
              "2     9653\n",
              "1     7918\n",
              "3     1940\n",
              "Name: EdLevel, dtype: int64"
            ]
          },
          "metadata": {},
          "execution_count": 34
        }
      ]
    },
    {
      "cell_type": "markdown",
      "source": [
        "### LABEL ENCODER COUNTRY"
      ],
      "metadata": {
        "id": "oVL33AVoqXJ2"
      }
    },
    {
      "cell_type": "code",
      "source": [
        "leCountry = LabelEncoder()\n",
        "data['Country'] = leCountry.fit_transform(data['Country'])"
      ],
      "metadata": {
        "id": "xKIp5p5hqI1O"
      },
      "execution_count": 35,
      "outputs": []
    },
    {
      "cell_type": "code",
      "source": [
        "data['Country'].value_counts()"
      ],
      "metadata": {
        "colab": {
          "base_uri": "https://localhost:8080/"
        },
        "id": "bZb4ot5CqfXb",
        "outputId": "a1901d7d-82d0-4809-9d58-3ddb34ae1242"
      },
      "execution_count": 36,
      "outputs": [
        {
          "output_type": "execute_result",
          "data": {
            "text/plain": [
              "9     10238\n",
              "17     8221\n",
              "5      2863\n",
              "16     2570\n",
              "6      2143\n",
              "3      1420\n",
              "4      1362\n",
              "2      1275\n",
              "12      985\n",
              "10      969\n",
              "8       884\n",
              "7       796\n",
              "0       795\n",
              "13      659\n",
              "11      532\n",
              "14      485\n",
              "15      445\n",
              "1       408\n",
              "Name: Country, dtype: int64"
            ]
          },
          "metadata": {},
          "execution_count": 36
        }
      ]
    },
    {
      "cell_type": "code",
      "source": [
        "data.head()"
      ],
      "metadata": {
        "colab": {
          "base_uri": "https://localhost:8080/",
          "height": 206
        },
        "id": "Z02feeEMqkWm",
        "outputId": "20d49d49-b61c-410e-fb2f-e3416b039c12"
      },
      "execution_count": 37,
      "outputs": [
        {
          "output_type": "execute_result",
          "data": {
            "text/plain": [
              "    Country  EdLevel  YearsCodePro  \\\n",
              "2        16        2           5.0   \n",
              "3         9        0          17.0   \n",
              "8         8        2           6.0   \n",
              "10       16        0           2.0   \n",
              "11       17        0          10.0   \n",
              "\n",
              "                                           Employment    Salary  \n",
              "2                                 Employed, full-time   40205.0  \n",
              "3                                 Employed, full-time  215232.0  \n",
              "8                                 Employed, full-time   49056.0  \n",
              "10                                Employed, full-time   60307.0  \n",
              "11  Employed, full-time;Independent contractor, fr...  194400.0  "
            ],
            "text/html": [
              "\n",
              "  <div id=\"df-37432a2f-1bb9-4a90-9697-59c63269c230\">\n",
              "    <div class=\"colab-df-container\">\n",
              "      <div>\n",
              "<style scoped>\n",
              "    .dataframe tbody tr th:only-of-type {\n",
              "        vertical-align: middle;\n",
              "    }\n",
              "\n",
              "    .dataframe tbody tr th {\n",
              "        vertical-align: top;\n",
              "    }\n",
              "\n",
              "    .dataframe thead th {\n",
              "        text-align: right;\n",
              "    }\n",
              "</style>\n",
              "<table border=\"1\" class=\"dataframe\">\n",
              "  <thead>\n",
              "    <tr style=\"text-align: right;\">\n",
              "      <th></th>\n",
              "      <th>Country</th>\n",
              "      <th>EdLevel</th>\n",
              "      <th>YearsCodePro</th>\n",
              "      <th>Employment</th>\n",
              "      <th>Salary</th>\n",
              "    </tr>\n",
              "  </thead>\n",
              "  <tbody>\n",
              "    <tr>\n",
              "      <th>2</th>\n",
              "      <td>16</td>\n",
              "      <td>2</td>\n",
              "      <td>5.0</td>\n",
              "      <td>Employed, full-time</td>\n",
              "      <td>40205.0</td>\n",
              "    </tr>\n",
              "    <tr>\n",
              "      <th>3</th>\n",
              "      <td>9</td>\n",
              "      <td>0</td>\n",
              "      <td>17.0</td>\n",
              "      <td>Employed, full-time</td>\n",
              "      <td>215232.0</td>\n",
              "    </tr>\n",
              "    <tr>\n",
              "      <th>8</th>\n",
              "      <td>8</td>\n",
              "      <td>2</td>\n",
              "      <td>6.0</td>\n",
              "      <td>Employed, full-time</td>\n",
              "      <td>49056.0</td>\n",
              "    </tr>\n",
              "    <tr>\n",
              "      <th>10</th>\n",
              "      <td>16</td>\n",
              "      <td>0</td>\n",
              "      <td>2.0</td>\n",
              "      <td>Employed, full-time</td>\n",
              "      <td>60307.0</td>\n",
              "    </tr>\n",
              "    <tr>\n",
              "      <th>11</th>\n",
              "      <td>17</td>\n",
              "      <td>0</td>\n",
              "      <td>10.0</td>\n",
              "      <td>Employed, full-time;Independent contractor, fr...</td>\n",
              "      <td>194400.0</td>\n",
              "    </tr>\n",
              "  </tbody>\n",
              "</table>\n",
              "</div>\n",
              "      <button class=\"colab-df-convert\" onclick=\"convertToInteractive('df-37432a2f-1bb9-4a90-9697-59c63269c230')\"\n",
              "              title=\"Convert this dataframe to an interactive table.\"\n",
              "              style=\"display:none;\">\n",
              "        \n",
              "  <svg xmlns=\"http://www.w3.org/2000/svg\" height=\"24px\"viewBox=\"0 0 24 24\"\n",
              "       width=\"24px\">\n",
              "    <path d=\"M0 0h24v24H0V0z\" fill=\"none\"/>\n",
              "    <path d=\"M18.56 5.44l.94 2.06.94-2.06 2.06-.94-2.06-.94-.94-2.06-.94 2.06-2.06.94zm-11 1L8.5 8.5l.94-2.06 2.06-.94-2.06-.94L8.5 2.5l-.94 2.06-2.06.94zm10 10l.94 2.06.94-2.06 2.06-.94-2.06-.94-.94-2.06-.94 2.06-2.06.94z\"/><path d=\"M17.41 7.96l-1.37-1.37c-.4-.4-.92-.59-1.43-.59-.52 0-1.04.2-1.43.59L10.3 9.45l-7.72 7.72c-.78.78-.78 2.05 0 2.83L4 21.41c.39.39.9.59 1.41.59.51 0 1.02-.2 1.41-.59l7.78-7.78 2.81-2.81c.8-.78.8-2.07 0-2.86zM5.41 20L4 18.59l7.72-7.72 1.47 1.35L5.41 20z\"/>\n",
              "  </svg>\n",
              "      </button>\n",
              "      \n",
              "  <style>\n",
              "    .colab-df-container {\n",
              "      display:flex;\n",
              "      flex-wrap:wrap;\n",
              "      gap: 12px;\n",
              "    }\n",
              "\n",
              "    .colab-df-convert {\n",
              "      background-color: #E8F0FE;\n",
              "      border: none;\n",
              "      border-radius: 50%;\n",
              "      cursor: pointer;\n",
              "      display: none;\n",
              "      fill: #1967D2;\n",
              "      height: 32px;\n",
              "      padding: 0 0 0 0;\n",
              "      width: 32px;\n",
              "    }\n",
              "\n",
              "    .colab-df-convert:hover {\n",
              "      background-color: #E2EBFA;\n",
              "      box-shadow: 0px 1px 2px rgba(60, 64, 67, 0.3), 0px 1px 3px 1px rgba(60, 64, 67, 0.15);\n",
              "      fill: #174EA6;\n",
              "    }\n",
              "\n",
              "    [theme=dark] .colab-df-convert {\n",
              "      background-color: #3B4455;\n",
              "      fill: #D2E3FC;\n",
              "    }\n",
              "\n",
              "    [theme=dark] .colab-df-convert:hover {\n",
              "      background-color: #434B5C;\n",
              "      box-shadow: 0px 1px 3px 1px rgba(0, 0, 0, 0.15);\n",
              "      filter: drop-shadow(0px 1px 2px rgba(0, 0, 0, 0.3));\n",
              "      fill: #FFFFFF;\n",
              "    }\n",
              "  </style>\n",
              "\n",
              "      <script>\n",
              "        const buttonEl =\n",
              "          document.querySelector('#df-37432a2f-1bb9-4a90-9697-59c63269c230 button.colab-df-convert');\n",
              "        buttonEl.style.display =\n",
              "          google.colab.kernel.accessAllowed ? 'block' : 'none';\n",
              "\n",
              "        async function convertToInteractive(key) {\n",
              "          const element = document.querySelector('#df-37432a2f-1bb9-4a90-9697-59c63269c230');\n",
              "          const dataTable =\n",
              "            await google.colab.kernel.invokeFunction('convertToInteractive',\n",
              "                                                     [key], {});\n",
              "          if (!dataTable) return;\n",
              "\n",
              "          const docLinkHtml = 'Like what you see? Visit the ' +\n",
              "            '<a target=\"_blank\" href=https://colab.research.google.com/notebooks/data_table.ipynb>data table notebook</a>'\n",
              "            + ' to learn more about interactive tables.';\n",
              "          element.innerHTML = '';\n",
              "          dataTable['output_type'] = 'display_data';\n",
              "          await google.colab.output.renderOutput(dataTable, element);\n",
              "          const docLink = document.createElement('div');\n",
              "          docLink.innerHTML = docLinkHtml;\n",
              "          element.appendChild(docLink);\n",
              "        }\n",
              "      </script>\n",
              "    </div>\n",
              "  </div>\n",
              "  "
            ]
          },
          "metadata": {},
          "execution_count": 37
        }
      ]
    },
    {
      "cell_type": "code",
      "source": [
        "data = data.drop(columns='Employment')"
      ],
      "metadata": {
        "id": "5zHD-RM7qn6R"
      },
      "execution_count": 38,
      "outputs": []
    },
    {
      "cell_type": "code",
      "source": [
        "data.head(10)"
      ],
      "metadata": {
        "colab": {
          "base_uri": "https://localhost:8080/",
          "height": 363
        },
        "id": "UqCtQHSFqy37",
        "outputId": "052eaeaa-5e36-4624-d8b6-814e90cfff81"
      },
      "execution_count": 39,
      "outputs": [
        {
          "output_type": "execute_result",
          "data": {
            "text/plain": [
              "    Country  EdLevel  YearsCodePro    Salary\n",
              "2        16        2           5.0   40205.0\n",
              "3         9        0          17.0  215232.0\n",
              "8         8        2           6.0   49056.0\n",
              "10       16        0           2.0   60307.0\n",
              "11       17        0          10.0  194400.0\n",
              "12       17        0           5.0   65000.0\n",
              "14       17        2           5.0  110000.0\n",
              "16        9        0           4.0   19224.0\n",
              "17        1        2          10.0  202623.0\n",
              "18        1        1          22.0   51192.0"
            ],
            "text/html": [
              "\n",
              "  <div id=\"df-a53b3f68-ac73-45b8-938d-6d0094cf15ec\">\n",
              "    <div class=\"colab-df-container\">\n",
              "      <div>\n",
              "<style scoped>\n",
              "    .dataframe tbody tr th:only-of-type {\n",
              "        vertical-align: middle;\n",
              "    }\n",
              "\n",
              "    .dataframe tbody tr th {\n",
              "        vertical-align: top;\n",
              "    }\n",
              "\n",
              "    .dataframe thead th {\n",
              "        text-align: right;\n",
              "    }\n",
              "</style>\n",
              "<table border=\"1\" class=\"dataframe\">\n",
              "  <thead>\n",
              "    <tr style=\"text-align: right;\">\n",
              "      <th></th>\n",
              "      <th>Country</th>\n",
              "      <th>EdLevel</th>\n",
              "      <th>YearsCodePro</th>\n",
              "      <th>Salary</th>\n",
              "    </tr>\n",
              "  </thead>\n",
              "  <tbody>\n",
              "    <tr>\n",
              "      <th>2</th>\n",
              "      <td>16</td>\n",
              "      <td>2</td>\n",
              "      <td>5.0</td>\n",
              "      <td>40205.0</td>\n",
              "    </tr>\n",
              "    <tr>\n",
              "      <th>3</th>\n",
              "      <td>9</td>\n",
              "      <td>0</td>\n",
              "      <td>17.0</td>\n",
              "      <td>215232.0</td>\n",
              "    </tr>\n",
              "    <tr>\n",
              "      <th>8</th>\n",
              "      <td>8</td>\n",
              "      <td>2</td>\n",
              "      <td>6.0</td>\n",
              "      <td>49056.0</td>\n",
              "    </tr>\n",
              "    <tr>\n",
              "      <th>10</th>\n",
              "      <td>16</td>\n",
              "      <td>0</td>\n",
              "      <td>2.0</td>\n",
              "      <td>60307.0</td>\n",
              "    </tr>\n",
              "    <tr>\n",
              "      <th>11</th>\n",
              "      <td>17</td>\n",
              "      <td>0</td>\n",
              "      <td>10.0</td>\n",
              "      <td>194400.0</td>\n",
              "    </tr>\n",
              "    <tr>\n",
              "      <th>12</th>\n",
              "      <td>17</td>\n",
              "      <td>0</td>\n",
              "      <td>5.0</td>\n",
              "      <td>65000.0</td>\n",
              "    </tr>\n",
              "    <tr>\n",
              "      <th>14</th>\n",
              "      <td>17</td>\n",
              "      <td>2</td>\n",
              "      <td>5.0</td>\n",
              "      <td>110000.0</td>\n",
              "    </tr>\n",
              "    <tr>\n",
              "      <th>16</th>\n",
              "      <td>9</td>\n",
              "      <td>0</td>\n",
              "      <td>4.0</td>\n",
              "      <td>19224.0</td>\n",
              "    </tr>\n",
              "    <tr>\n",
              "      <th>17</th>\n",
              "      <td>1</td>\n",
              "      <td>2</td>\n",
              "      <td>10.0</td>\n",
              "      <td>202623.0</td>\n",
              "    </tr>\n",
              "    <tr>\n",
              "      <th>18</th>\n",
              "      <td>1</td>\n",
              "      <td>1</td>\n",
              "      <td>22.0</td>\n",
              "      <td>51192.0</td>\n",
              "    </tr>\n",
              "  </tbody>\n",
              "</table>\n",
              "</div>\n",
              "      <button class=\"colab-df-convert\" onclick=\"convertToInteractive('df-a53b3f68-ac73-45b8-938d-6d0094cf15ec')\"\n",
              "              title=\"Convert this dataframe to an interactive table.\"\n",
              "              style=\"display:none;\">\n",
              "        \n",
              "  <svg xmlns=\"http://www.w3.org/2000/svg\" height=\"24px\"viewBox=\"0 0 24 24\"\n",
              "       width=\"24px\">\n",
              "    <path d=\"M0 0h24v24H0V0z\" fill=\"none\"/>\n",
              "    <path d=\"M18.56 5.44l.94 2.06.94-2.06 2.06-.94-2.06-.94-.94-2.06-.94 2.06-2.06.94zm-11 1L8.5 8.5l.94-2.06 2.06-.94-2.06-.94L8.5 2.5l-.94 2.06-2.06.94zm10 10l.94 2.06.94-2.06 2.06-.94-2.06-.94-.94-2.06-.94 2.06-2.06.94z\"/><path d=\"M17.41 7.96l-1.37-1.37c-.4-.4-.92-.59-1.43-.59-.52 0-1.04.2-1.43.59L10.3 9.45l-7.72 7.72c-.78.78-.78 2.05 0 2.83L4 21.41c.39.39.9.59 1.41.59.51 0 1.02-.2 1.41-.59l7.78-7.78 2.81-2.81c.8-.78.8-2.07 0-2.86zM5.41 20L4 18.59l7.72-7.72 1.47 1.35L5.41 20z\"/>\n",
              "  </svg>\n",
              "      </button>\n",
              "      \n",
              "  <style>\n",
              "    .colab-df-container {\n",
              "      display:flex;\n",
              "      flex-wrap:wrap;\n",
              "      gap: 12px;\n",
              "    }\n",
              "\n",
              "    .colab-df-convert {\n",
              "      background-color: #E8F0FE;\n",
              "      border: none;\n",
              "      border-radius: 50%;\n",
              "      cursor: pointer;\n",
              "      display: none;\n",
              "      fill: #1967D2;\n",
              "      height: 32px;\n",
              "      padding: 0 0 0 0;\n",
              "      width: 32px;\n",
              "    }\n",
              "\n",
              "    .colab-df-convert:hover {\n",
              "      background-color: #E2EBFA;\n",
              "      box-shadow: 0px 1px 2px rgba(60, 64, 67, 0.3), 0px 1px 3px 1px rgba(60, 64, 67, 0.15);\n",
              "      fill: #174EA6;\n",
              "    }\n",
              "\n",
              "    [theme=dark] .colab-df-convert {\n",
              "      background-color: #3B4455;\n",
              "      fill: #D2E3FC;\n",
              "    }\n",
              "\n",
              "    [theme=dark] .colab-df-convert:hover {\n",
              "      background-color: #434B5C;\n",
              "      box-shadow: 0px 1px 3px 1px rgba(0, 0, 0, 0.15);\n",
              "      filter: drop-shadow(0px 1px 2px rgba(0, 0, 0, 0.3));\n",
              "      fill: #FFFFFF;\n",
              "    }\n",
              "  </style>\n",
              "\n",
              "      <script>\n",
              "        const buttonEl =\n",
              "          document.querySelector('#df-a53b3f68-ac73-45b8-938d-6d0094cf15ec button.colab-df-convert');\n",
              "        buttonEl.style.display =\n",
              "          google.colab.kernel.accessAllowed ? 'block' : 'none';\n",
              "\n",
              "        async function convertToInteractive(key) {\n",
              "          const element = document.querySelector('#df-a53b3f68-ac73-45b8-938d-6d0094cf15ec');\n",
              "          const dataTable =\n",
              "            await google.colab.kernel.invokeFunction('convertToInteractive',\n",
              "                                                     [key], {});\n",
              "          if (!dataTable) return;\n",
              "\n",
              "          const docLinkHtml = 'Like what you see? Visit the ' +\n",
              "            '<a target=\"_blank\" href=https://colab.research.google.com/notebooks/data_table.ipynb>data table notebook</a>'\n",
              "            + ' to learn more about interactive tables.';\n",
              "          element.innerHTML = '';\n",
              "          dataTable['output_type'] = 'display_data';\n",
              "          await google.colab.output.renderOutput(dataTable, element);\n",
              "          const docLink = document.createElement('div');\n",
              "          docLink.innerHTML = docLinkHtml;\n",
              "          element.appendChild(docLink);\n",
              "        }\n",
              "      </script>\n",
              "    </div>\n",
              "  </div>\n",
              "  "
            ]
          },
          "metadata": {},
          "execution_count": 39
        }
      ]
    },
    {
      "cell_type": "code",
      "source": [
        "data.to_csv('cleanSalary.csv')"
      ],
      "metadata": {
        "id": "4_pvyDKKs5oo"
      },
      "execution_count": 46,
      "outputs": []
    }
  ]
}